{
 "cells": [
  {
   "cell_type": "code",
   "execution_count": 1,
   "metadata": {},
   "outputs": [],
   "source": [
    "import findspark\n",
    "findspark.init(r\"C:\\spark-2.4.5-bin-hadoop2.7\")\n",
    "\n",
    "import pyspark\n",
    "import matplotlib.pyplot as plt\n",
    "import pandas as pd\n",
    "from pyspark.sql import SparkSession"
   ]
  },
  {
   "cell_type": "markdown",
   "metadata": {},
   "source": [
    "# Create Spark Context & Session"
   ]
  },
  {
   "cell_type": "code",
   "execution_count": 2,
   "metadata": {},
   "outputs": [
    {
     "data": {
      "text/html": [
       "\n",
       "            <div>\n",
       "                <p><b>SparkSession - in-memory</b></p>\n",
       "                \n",
       "        <div>\n",
       "            <p><b>SparkContext</b></p>\n",
       "\n",
       "            <p><a href=\"http://host.docker.internal:4041\">Spark UI</a></p>\n",
       "\n",
       "            <dl>\n",
       "              <dt>Version</dt>\n",
       "                <dd><code>v2.4.5</code></dd>\n",
       "              <dt>Master</dt>\n",
       "                <dd><code>local[*]</code></dd>\n",
       "              <dt>AppName</dt>\n",
       "                <dd><code>pyspark-shell</code></dd>\n",
       "            </dl>\n",
       "        </div>\n",
       "        \n",
       "            </div>\n",
       "        "
      ],
      "text/plain": [
       "<pyspark.sql.session.SparkSession at 0x243465c07f0>"
      ]
     },
     "execution_count": 2,
     "metadata": {},
     "output_type": "execute_result"
    }
   ],
   "source": [
    "# sc = pyspark.SparkContext(appName=\"experiment\")\n",
    "spark = SparkSession.builder.getOrCreate()\n",
    "spark"
   ]
  },
  {
   "cell_type": "code",
   "execution_count": 3,
   "metadata": {},
   "outputs": [
    {
     "data": {
      "text/html": [
       "\n",
       "        <div>\n",
       "            <p><b>SparkContext</b></p>\n",
       "\n",
       "            <p><a href=\"http://host.docker.internal:4041\">Spark UI</a></p>\n",
       "\n",
       "            <dl>\n",
       "              <dt>Version</dt>\n",
       "                <dd><code>v2.4.5</code></dd>\n",
       "              <dt>Master</dt>\n",
       "                <dd><code>local[*]</code></dd>\n",
       "              <dt>AppName</dt>\n",
       "                <dd><code>pyspark-shell</code></dd>\n",
       "            </dl>\n",
       "        </div>\n",
       "        "
      ],
      "text/plain": [
       "<SparkContext master=local[*] appName=pyspark-shell>"
      ]
     },
     "execution_count": 3,
     "metadata": {},
     "output_type": "execute_result"
    }
   ],
   "source": [
    "sc = spark.sparkContext\n",
    "sc"
   ]
  },
  {
   "cell_type": "markdown",
   "metadata": {},
   "source": [
    "# Page Rank Example"
   ]
  },
  {
   "cell_type": "code",
   "execution_count": 4,
   "metadata": {},
   "outputs": [],
   "source": [
    "pageLinks = [\n",
    "    ['a' ,['b','c','d']],\n",
    "    ['c', ['b']],\n",
    "    ['b', ['d','c']],\n",
    "    ['d', ['a','c']]\n",
    "]\n",
    "pageRanks = [\n",
    "    ['a',1],\n",
    "    ['c',1],\n",
    "    ['b',1],\n",
    "    ['d',1]\n",
    "]\n",
    "\n",
    "numIter = 3\n",
    "s = 0.85 # damping factor\n",
    "\n",
    "def rankContribution(uris, rank):\n",
    "    numberOfUris = len(uris)\n",
    "    rank_contribution = float(rank) / numberOfUris\n",
    "    return [(uri, rank_contribution) for uri in uris]"
   ]
  },
  {
   "cell_type": "code",
   "execution_count": 5,
   "metadata": {},
   "outputs": [
    {
     "data": {
      "text/plain": [
       "[('a', 0.5147916666666666),\n",
       " ('b', 1.335513888888889),\n",
       " ('c', 1.2572430555555556),\n",
       " ('d', 0.8924513888888889)]"
      ]
     },
     "execution_count": 5,
     "metadata": {},
     "output_type": "execute_result"
    }
   ],
   "source": [
    "pageLinksRDD = sc.parallelize(pageLinks, 2)\n",
    "pageRanksRDD = sc.parallelize(pageRanks, 2)\n",
    "\n",
    "for i in range(numIter):\n",
    "    # Create joined RDD\n",
    "    linksRank = pageLinksRDD.join(pageRanksRDD)\n",
    "    \n",
    "    # Calculate total contribution for all pages\n",
    "    contributedRDD = linksRank.flatMap(lambda x : rankContribution(x[1][0],x[1][1]))\n",
    "    sumRanks = contributedRDD.reduceByKey(lambda v1,v2 : v1+v2) \n",
    "    # Or       contributedRDD.groupByKey().mapValues(sum)\n",
    "    \n",
    "    # Update page ranks\n",
    "    pageRanksRDD = sumRanks.map(lambda x : (x[0],(1-s)+s*x[1]))\n",
    "    \n",
    "pageRanksRDD.collect()"
   ]
  },
  {
   "cell_type": "code",
   "execution_count": 6,
   "metadata": {},
   "outputs": [
    {
     "data": {
      "text/plain": [
       "[('a', 0.5147916666666666),\n",
       " ('c', 1.2572430555555556),\n",
       " ('b', 1.335513888888889),\n",
       " ('d', 0.8924513888888889)]"
      ]
     },
     "execution_count": 6,
     "metadata": {},
     "output_type": "execute_result"
    }
   ],
   "source": [
    "df_page_links = pd.DataFrame(pageLinks, columns=['index', 'link']).set_index('index')\n",
    "df_page_ranks = pd.DataFrame(pageRanks, columns=['index', 'rank']).set_index('index')\n",
    "\n",
    "for i in range(numIter):\n",
    "    # Calculate total contributions\n",
    "    contributions = df_page_links.join(df_page_ranks) \\\n",
    "                         .apply(lambda x: rankContribution(x['link'], x['rank']), axis=1) \\\n",
    "                         .sum()\n",
    "    \n",
    "    df_sum_contributions = pd.DataFrame(contributions, columns=['index', 'rank']) \\\n",
    "                             .groupby('index').sum()\n",
    "    \n",
    "    df_page_ranks['rank'] = df_sum_contributions['rank'].apply(lambda x : (1-s)+s*x)\n",
    "    \n",
    "list(zip(df_page_ranks.index, df_page_ranks['rank']))"
   ]
  },
  {
   "cell_type": "code",
   "execution_count": null,
   "metadata": {},
   "outputs": [],
   "source": []
  },
  {
   "cell_type": "code",
   "execution_count": null,
   "metadata": {},
   "outputs": [],
   "source": []
  },
  {
   "cell_type": "code",
   "execution_count": null,
   "metadata": {},
   "outputs": [],
   "source": []
  },
  {
   "cell_type": "code",
   "execution_count": null,
   "metadata": {},
   "outputs": [],
   "source": []
  },
  {
   "cell_type": "code",
   "execution_count": null,
   "metadata": {},
   "outputs": [],
   "source": []
  },
  {
   "cell_type": "code",
   "execution_count": null,
   "metadata": {},
   "outputs": [],
   "source": []
  },
  {
   "cell_type": "code",
   "execution_count": null,
   "metadata": {},
   "outputs": [],
   "source": []
  }
 ],
 "metadata": {
  "kernelspec": {
   "display_name": "Python 3",
   "language": "python",
   "name": "python3"
  },
  "language_info": {
   "codemirror_mode": {
    "name": "ipython",
    "version": 3
   },
   "file_extension": ".py",
   "mimetype": "text/x-python",
   "name": "python",
   "nbconvert_exporter": "python",
   "pygments_lexer": "ipython3",
   "version": "3.6.4"
  }
 },
 "nbformat": 4,
 "nbformat_minor": 2
}
